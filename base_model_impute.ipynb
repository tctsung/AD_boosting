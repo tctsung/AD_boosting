{
 "cells": [
  {
   "cell_type": "code",
   "execution_count": 8,
   "id": "e58b470f",
   "metadata": {},
   "outputs": [],
   "source": [
    "import pandas as pd\n",
    "import numpy as np\n",
    "import xgboost as xgb\n",
    "import lightgbm as lgb\n",
    "from catboost import CatBoostClassifier\n",
    "from sklearn.ensemble import GradientBoostingClassifier\n",
    "from sklearn.ensemble import HistGradientBoostingClassifier\n",
    "from sklearn.ensemble import GradientBoostingClassifier\n",
    "from sklearn.metrics import balanced_accuracy_score, roc_auc_score, make_scorer\n",
    "from sklearn.linear_model import LogisticRegression\n",
    "from sklearn.metrics import confusion_matrix\n",
    "# from importlib import reload\n",
    "# reload(dc)\n",
    "import data_cleaner as dc  # self-writtten python functions\n",
    "\n",
    "pd.set_option('display.max_rows', 500)  # let pd.df display() 500 rows\n",
    "pd.set_option('display.max_columns', 500)"
   ]
  },
  {
   "cell_type": "markdown",
   "id": "79593a6a",
   "metadata": {},
   "source": [
    "### Import data\n",
    "\n",
    "- wave ADNI1, ADNIGO as training\n",
    "\n",
    "- wave ADNI2, ADNI3 as testing"
   ]
  },
  {
   "cell_type": "code",
   "execution_count": 9,
   "id": "2edae247",
   "metadata": {},
   "outputs": [],
   "source": [
    "x_train = pd.read_csv(\"../clean_data/mci_wv1go_imp.csv\")    \n",
    "x_test = pd.read_csv(\"../clean_data/mci_wv23_imp.csv\")\n",
    "y_train = x_train.pop(\"progress\")\n",
    "y_test = x_test.pop(\"progress\")\n",
    "errs = pd.DataFrame(columns=[0,1,2])"
   ]
  },
  {
   "cell_type": "markdown",
   "id": "8d2035a3",
   "metadata": {},
   "source": [
    "### Base model Training\n",
    "\n",
    "- use a simple KNN imputation for logistic regression & linear SVM\n",
    "\n",
    "- ensembling learning methods use their default imputations"
   ]
  },
  {
   "cell_type": "code",
   "execution_count": 10,
   "id": "fa320205",
   "metadata": {
    "scrolled": true
   },
   "outputs": [],
   "source": [
    "from sklearn.impute import KNNImputer\n",
    "from sklearn.pipeline import Pipeline\n",
    "from sklearn.preprocessing import StandardScaler\n",
    "mod_log = LogisticRegression(penalty=None, max_iter=500)\n",
    "mod_log.fit(x_train, y_train)\n",
    "pred_train = mod_log.predict(x_train) \n",
    "pred_test = mod_log.predict(x_test) \n",
    "errs = pd.concat([errs, pd.DataFrame([[\"Logistic\", np.mean(pred_train == y_train), \n",
    "                         np.mean(pred_test == y_test)]]) ])"
   ]
  },
  {
   "cell_type": "code",
   "execution_count": 11,
   "id": "e0f01baf",
   "metadata": {},
   "outputs": [],
   "source": [
    "from sklearn.svm import SVC\n",
    "mod_svm = Pipeline([\n",
    "    (\"scale\", StandardScaler() ),\n",
    "    ('model', SVC(kernel='linear', probability=True)),\n",
    "])\n",
    "mod_svm.fit(x_train, y_train)\n",
    "pred_train = mod_svm.predict(x_train) \n",
    "pred_test = mod_svm.predict(x_test) \n",
    "errs = pd.concat([errs, pd.DataFrame([[\"SVM\", np.mean(pred_train == y_train), \n",
    "                         np.mean(pred_test == y_test)]]) ])"
   ]
  },
  {
   "cell_type": "code",
   "execution_count": 12,
   "id": "53dd10f1",
   "metadata": {},
   "outputs": [],
   "source": [
    "# light gbm:\n",
    "mod_lgb = lgb.LGBMClassifier()\n",
    "mod_lgb.fit(x_train, y_train)\n",
    "pred_train = mod_lgb.predict(x_train) \n",
    "pred_test = mod_lgb.predict(x_test) \n",
    "errs = pd.concat([errs, pd.DataFrame([[\"Light GBM\", np.mean(pred_train == y_train), \n",
    "                         np.mean(pred_test == y_test)]]) ])"
   ]
  },
  {
   "cell_type": "code",
   "execution_count": 13,
   "id": "42da2093",
   "metadata": {},
   "outputs": [],
   "source": [
    "# xgboost:\n",
    "mod_xgb = xgb.XGBClassifier()\n",
    "mod_xgb.fit(x_train, y_train)\n",
    "pred_train = mod_xgb.predict(x_train) \n",
    "pred_test = mod_xgb.predict(x_test) \n",
    "errs = pd.concat([errs, pd.DataFrame([[\"XGBoost\", np.mean(pred_train == y_train), \n",
    "                         np.mean(pred_test == y_test)]]) ])"
   ]
  },
  {
   "cell_type": "code",
   "execution_count": 14,
   "id": "1cadb098",
   "metadata": {
    "scrolled": false
   },
   "outputs": [],
   "source": [
    "# catboost:\n",
    "mod_cat = CatBoostClassifier(silent=True)\n",
    "mod_cat.fit(x_train, y_train)\n",
    "pred_train = mod_cat.predict(x_train) \n",
    "pred_test = mod_cat.predict(x_test) \n",
    "errs = pd.concat([errs, pd.DataFrame([[\"CatBoost\", np.mean(pred_train == y_train), \n",
    "                         np.mean(pred_test == y_test)]]) ])"
   ]
  },
  {
   "cell_type": "code",
   "execution_count": 15,
   "id": "cd31afe0",
   "metadata": {},
   "outputs": [],
   "source": [
    "# GBM\n",
    "mod_gbm = GradientBoostingClassifier()\n",
    "mod_gbm.fit(x_train, y_train)\n",
    "pred_train = mod_gbm.predict(x_train) \n",
    "pred_test = mod_gbm.predict(x_test) \n",
    "errs = pd.concat([errs, pd.DataFrame([[\"GBM\", np.mean(pred_train == y_train), \n",
    "                         np.mean(pred_test == y_test)]]) ])"
   ]
  },
  {
   "cell_type": "code",
   "execution_count": 16,
   "id": "079eefb7",
   "metadata": {},
   "outputs": [],
   "source": [
    "# rf\n",
    "from sklearn.ensemble import RandomForestClassifier\n",
    "mod_rf = RandomForestClassifier()\n",
    "mod_rf.fit(x_train, y_train)\n",
    "pred_train = mod_rf.predict(x_train) \n",
    "pred_test = mod_rf.predict(x_test)\n",
    "errs = pd.concat([errs, pd.DataFrame([[\"RF\", np.mean(pred_train == y_train), \n",
    "                         np.mean(pred_test == y_test)]]) ])"
   ]
  },
  {
   "cell_type": "markdown",
   "id": "0b0ed3e2",
   "metadata": {},
   "source": [
    "### Evaluation\n",
    "\n",
    "- Overfitting issue in ensemble methods\n",
    "\n",
    "- Baseline Performance: > 0.8\n",
    "\n",
    "- Catboost > lightGBM > XGBoost > GBM > SVM > logistic"
   ]
  },
  {
   "cell_type": "code",
   "execution_count": 17,
   "id": "0f46322d",
   "metadata": {},
   "outputs": [],
   "source": [
    "from sklearn.metrics import accuracy_score, confusion_matrix, roc_auc_score, roc_curve\n",
    "import matplotlib.pyplot as plt\n",
    "from sklearn import metrics\n",
    "def plot_roc_curve(true_y, y_prob):\n",
    "    \"\"\"\n",
    "    plots the roc curve based of the probabilities\n",
    "    \"\"\"\n",
    "    fpr, tpr, thresholds = roc_curve(true_y, y_prob)\n",
    "    plt.plot(fpr, tpr)\n",
    "    plt.xlabel('False Positive Rate')\n",
    "    plt.ylabel('True Positive Rate')"
   ]
  },
  {
   "cell_type": "code",
   "execution_count": 18,
   "id": "85c24aae",
   "metadata": {
    "collapsed": true
   },
   "outputs": [
    {
     "data": {
      "text/html": [
       "<div>\n",
       "<style scoped>\n",
       "    .dataframe tbody tr th:only-of-type {\n",
       "        vertical-align: middle;\n",
       "    }\n",
       "\n",
       "    .dataframe tbody tr th {\n",
       "        vertical-align: top;\n",
       "    }\n",
       "\n",
       "    .dataframe thead th {\n",
       "        text-align: right;\n",
       "    }\n",
       "</style>\n",
       "<table border=\"1\" class=\"dataframe\">\n",
       "  <thead>\n",
       "    <tr style=\"text-align: right;\">\n",
       "      <th></th>\n",
       "      <th>Method</th>\n",
       "      <th>train</th>\n",
       "      <th>test</th>\n",
       "    </tr>\n",
       "  </thead>\n",
       "  <tbody>\n",
       "    <tr>\n",
       "      <th>0</th>\n",
       "      <td>Logistic</td>\n",
       "      <td>0.840054</td>\n",
       "      <td>0.808</td>\n",
       "    </tr>\n",
       "    <tr>\n",
       "      <th>0</th>\n",
       "      <td>SVM</td>\n",
       "      <td>0.885753</td>\n",
       "      <td>0.916</td>\n",
       "    </tr>\n",
       "    <tr>\n",
       "      <th>0</th>\n",
       "      <td>Light GBM</td>\n",
       "      <td>1.000000</td>\n",
       "      <td>0.952</td>\n",
       "    </tr>\n",
       "    <tr>\n",
       "      <th>0</th>\n",
       "      <td>XGBoost</td>\n",
       "      <td>1.000000</td>\n",
       "      <td>0.948</td>\n",
       "    </tr>\n",
       "    <tr>\n",
       "      <th>0</th>\n",
       "      <td>CatBoost</td>\n",
       "      <td>0.998656</td>\n",
       "      <td>0.936</td>\n",
       "    </tr>\n",
       "    <tr>\n",
       "      <th>0</th>\n",
       "      <td>GBM</td>\n",
       "      <td>0.979839</td>\n",
       "      <td>0.920</td>\n",
       "    </tr>\n",
       "    <tr>\n",
       "      <th>0</th>\n",
       "      <td>RF</td>\n",
       "      <td>1.000000</td>\n",
       "      <td>0.956</td>\n",
       "    </tr>\n",
       "  </tbody>\n",
       "</table>\n",
       "</div>"
      ],
      "text/plain": [
       "      Method     train   test\n",
       "0   Logistic  0.840054  0.808\n",
       "0        SVM  0.885753  0.916\n",
       "0  Light GBM  1.000000  0.952\n",
       "0    XGBoost  1.000000  0.948\n",
       "0   CatBoost  0.998656  0.936\n",
       "0        GBM  0.979839  0.920\n",
       "0         RF  1.000000  0.956"
      ]
     },
     "metadata": {},
     "output_type": "display_data"
    },
    {
     "data": {
      "text/plain": [
       "<matplotlib.legend.Legend at 0x7fe761683040>"
      ]
     },
     "execution_count": 18,
     "metadata": {},
     "output_type": "execute_result"
    },
    {
     "data": {
      "image/png": "[encoded data removed]",
      "text/plain": [
       "<Figure size 640x480 with 1 Axes>"
      ]
     },
     "metadata": {},
     "output_type": "display_data"
    }
   ],
   "source": [
    "errs.columns = [\"Method\", \"train\", \"test\"]\n",
    "display(errs)\n",
    "plt.figure(0).clf()\n",
    "# Catboost:\n",
    "y_pred = mod_cat.predict_proba(x_test)[:, 1]\n",
    "fpr, tpr, _ = metrics.roc_curve(y_test, y_pred)\n",
    "auc = round(metrics.roc_auc_score(y_test, y_pred), 4)\n",
    "plt.plot(fpr,tpr,label=\"Catboost, AUC=\"+str(auc))\n",
    "\n",
    "# light gbm:\n",
    "y_pred = mod_lgb.predict_proba(x_test)[:, 1]\n",
    "fpr, tpr, _ = metrics.roc_curve(y_test, y_pred)\n",
    "auc = round(metrics.roc_auc_score(y_test, y_pred), 4)\n",
    "plt.plot(fpr,tpr,label=\"Light GBM, AUC=\"+str(auc))\n",
    "\n",
    "# xgboost:\n",
    "y_pred = mod_xgb.predict_proba(x_test)[:, 1]\n",
    "fpr, tpr, _ = metrics.roc_curve(y_test, y_pred)\n",
    "auc = round(metrics.roc_auc_score(y_test, y_pred), 4)\n",
    "plt.plot(fpr,tpr,label=\"XGBoost, AUC=\"+str(auc))\n",
    "\n",
    "# gbm:\n",
    "y_pred = mod_gbm.predict_proba(x_test)[:, 1]\n",
    "fpr, tpr, _ = metrics.roc_curve(y_test, y_pred)\n",
    "auc = round(metrics.roc_auc_score(y_test, y_pred), 4)\n",
    "plt.plot(fpr,tpr,label=\"GBM, AUC=\"+str(auc))\n",
    "\n",
    "# Logistic:\n",
    "y_pred = mod_log.predict_proba(x_test)[:, 1]\n",
    "fpr, tpr, _ = metrics.roc_curve(y_test, y_pred)\n",
    "auc = round(metrics.roc_auc_score(y_test, y_pred), 4)\n",
    "plt.plot(fpr,tpr,label=\"Logistic, AUC=\"+str(auc))\n",
    "\n",
    "# SVM:\n",
    "y_pred = mod_svm.predict_proba(x_test)[:, 1]\n",
    "fpr, tpr, _ = metrics.roc_curve(y_test, y_pred)\n",
    "auc = round(metrics.roc_auc_score(y_test, y_pred), 4)\n",
    "plt.plot(fpr,tpr,label=\"SVM, AUC=\"+str(auc))\n",
    "\n",
    "# RF:\n",
    "y_pred = mod_rf.predict_proba(x_test)[:, 1]\n",
    "fpr, tpr, _ = metrics.roc_curve(y_test, y_pred)\n",
    "auc = round(metrics.roc_auc_score(y_test, y_pred), 4)\n",
    "plt.plot(fpr,tpr,label=\"RF, AUC=\"+str(auc))\n",
    "\n",
    "plt.legend()"
   ]
  },
  {
   "cell_type": "code",
   "execution_count": null,
   "id": "804d4761",
   "metadata": {},
   "outputs": [],
   "source": [
    "# rf\n",
    "from sklearn.ensemble import RandomForestClassifier\n",
    "mod_rf = RandomForestClassifier()\n",
    "mod_rf.fit(x_train, y_train)\n",
    "pred_train = mod_rf.predict(x_train) \n",
    "pred_test = mod_rf.predict(x_test)\n",
    "errs = pd.concat([errs, pd.DataFrame([[\"RF\", np.mean(pred_train == y_train), \n",
    "                         np.mean(pred_test == y_test)]]) ])"
   ]
  },
  {
   "cell_type": "code",
   "execution_count": 19,
   "id": "0c84dd15",
   "metadata": {},
   "outputs": [],
   "source": [
    "# save the outcome of logistic regression, GBM, and SVM\n",
    "def save_res(model, nm):\n",
    "    res = {'train_pred':model.predict(x_train), \n",
    "           'train_prob':model.predict_proba(x_train)[:,1],\n",
    "           'test_pred':model.predict(x_test), \n",
    "           'test_prob':model.predict_proba(x_test)[:,1]}\n",
    "    dc.save_py(res, f\"output/{nm}\")\n"
   ]
  },
  {
   "cell_type": "code",
   "execution_count": 20,
   "id": "218556b1",
   "metadata": {},
   "outputs": [],
   "source": [
    "models = [mod_log, mod_svm, mod_rf, mod_gbm]\n",
    "nms = [\"result_\"+nm+\"_imp\" for nm in [\"log\", \"svm\", \"rf\", \"gbm\"]]"
   ]
  },
  {
   "cell_type": "code",
   "execution_count": 21,
   "id": "454dfaa2",
   "metadata": {},
   "outputs": [],
   "source": [
    "# for i in range(4):\n",
    "#     save_res(models[i], nms[i])"
   ]
  }
 ],
 "metadata": {
  "kernelspec": {
   "display_name": "Python 3 (ipykernel)",
   "language": "python",
   "name": "python3"
  },
  "language_info": {
   "codemirror_mode": {
    "name": "ipython",
    "version": 3
   },
   "file_extension": ".py",
   "mimetype": "text/x-python",
   "name": "python",
   "nbconvert_exporter": "python",
   "pygments_lexer": "ipython3",
   "version": "3.8.8"
  }
 },
 "nbformat": 4,
 "nbformat_minor": 5
}
