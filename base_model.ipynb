{
 "cells": [
  {
   "cell_type": "code",
   "execution_count": 46,
   "id": "e58b470f",
   "metadata": {},
   "outputs": [],
   "source": [
    "import pandas as pd\n",
    "import numpy as np\n",
    "import xgboost as xgb\n",
    "from sklearn.model_selection import train_test_split\n",
    "from sklearn.metrics import balanced_accuracy_score, roc_auc_score, make_scorer\n",
    "from sklearn.model_selection import GridSearchCV\n",
    "from sklearn.metrics import confusion_matrix\n",
    "# from sklearn.metrics import plot_confusion_matrix\n",
    "pd.set_option('display.max_rows', 500)  # let pd.df display() 500 rows\n",
    "pd.set_option('display.max_columns', 500)"
   ]
  },
  {
   "cell_type": "markdown",
   "id": "79593a6a",
   "metadata": {},
   "source": [
    "### Import data"
   ]
  },
  {
   "cell_type": "code",
   "execution_count": 35,
   "id": "2edae247",
   "metadata": {},
   "outputs": [
    {
     "name": "stderr",
     "output_type": "stream",
     "text": [
      "/var/folders/bm/s0j8htzs7tn4d1t__749xglm0000gn/T/ipykernel_65008/837559297.py:1: DtypeWarning: Columns (16,17) have mixed types. Specify dtype option on import or set low_memory=False.\n",
      "  raw = pd.read_csv(\"../clean_data/df_3to1.csv\")\n"
     ]
    }
   ],
   "source": [
    "raw = pd.read_csv(\"../clean_data/df_3to1.csv\")\n",
    "raw.drop([\"TAU\",\"ABETA\",\"PTAU\"], axis=1, inplace=True)"
   ]
  },
  {
   "cell_type": "code",
   "execution_count": 63,
   "id": "53dd10f1",
   "metadata": {},
   "outputs": [
    {
     "data": {
      "text/plain": [
       "2    683\n",
       "3     64\n",
       "1      7\n",
       "Name: DX, dtype: int64"
      ]
     },
     "execution_count": 63,
     "metadata": {},
     "output_type": "execute_result"
    }
   ],
   "source": [
    "# temp \n",
    "adni1 = raw.loc[raw[\"ORIGPROT\"]==0]\n",
    "start_mci = adni1[\"RID\"][(adni1[\"VISCODE\"]==0) & (adni1[\"DX\"]==2)]\n",
    "adni1_mci = adni1.loc[(adni1[\"VISCODE\"].isin([0,12]))&         # keep time point 0,12,24\n",
    "            (adni1[\"RID\"].isin(start_mci))             # rm start with AD\n",
    "           ] \n",
    "adni1_mci.DX.value_counts()\n",
    "# turn to binary problem:\n",
    "adni1_mci[\"DX\"].replace()"
   ]
  },
  {
   "cell_type": "markdown",
   "id": "672c140e",
   "metadata": {},
   "source": [
    "### Missing data"
   ]
  },
  {
   "cell_type": "code",
   "execution_count": 52,
   "id": "8bc357f5",
   "metadata": {},
   "outputs": [
    {
     "data": {
      "text/plain": [
       "FBB                      0.999806\n",
       "PIB                      0.956968\n",
       "AV45                     0.902888\n",
       "TAU_UPENN                0.797829\n",
       "PTAU_UPENN               0.797054\n",
       "ABETA_UPENN              0.797054\n",
       "EcogPtOrgan              0.771274\n",
       "EcogPtVisspat            0.768560\n",
       "EcogSPOrgan              0.768172\n",
       "EcogPtDivatt             0.768172\n",
       "EcogSPDivatt             0.767978\n",
       "EcogPtPlan               0.765846\n",
       "EcogSPVisspat            0.764683\n",
       "EcogPtLang               0.764683\n",
       "EcogPtTotal              0.764489\n",
       "EcogPtMem                0.763908\n",
       "EcogSPPlan               0.760225\n",
       "MOCA                     0.759837\n",
       "EcogSPTotal              0.756736\n",
       "EcogSPMem                0.756348\n",
       "EcogSPLang               0.756154\n",
       "FDG                      0.594883\n",
       "OTHER                    0.368482\n",
       "DPMOOD                   0.367513\n",
       "RASH                     0.367319\n",
       "FALL                     0.367319\n",
       "WANDER                   0.367319\n",
       "ABDOMN                   0.367319\n",
       "CRYING                   0.367319\n",
       "INSOMN                   0.367319\n",
       "ELMOOD                   0.367319\n",
       "ENERGY                   0.367319\n",
       "ANKLE                    0.367125\n",
       "VISION                   0.367125\n",
       "VOMIT                    0.367125\n",
       "DIARRH                   0.367125\n",
       "CONSTP                   0.367125\n",
       "DROWSY                   0.367125\n",
       "MUSCLE                   0.367125\n",
       "DIZZY                    0.367125\n",
       "URNDIS                   0.367125\n",
       "SWEATN                   0.367125\n",
       "CHEST                    0.367125\n",
       "PALPIT                   0.367125\n",
       "NAUSEA                   0.367125\n",
       "BREATH                   0.367125\n",
       "COUGH                    0.367125\n",
       "HDACHE                   0.367125\n",
       "URNFRQ                   0.367125\n",
       "DRYMTH                   0.367125\n",
       "Entorhinal               0.344059\n",
       "Fusiform                 0.344059\n",
       "MidTemp                  0.344059\n",
       "Hippocampus              0.337662\n",
       "DIGITSCOR                0.263423\n",
       "LDELTOTAL                0.227951\n",
       "FLDSTRENG                0.209343\n",
       "Ventricles               0.202365\n",
       "WholeBrain               0.191316\n",
       "ICV                      0.177554\n",
       "FSVERSION                0.177360\n",
       "IMAGEUID                 0.177360\n",
       "TRABSCOR                 0.054468\n",
       "RAVLT_perc_forgetting    0.033534\n",
       "RAVLT_forgetting         0.022291\n",
       "ADAS13                   0.020547\n",
       "RAVLT_learning           0.018608\n",
       "RAVLT_immediate          0.018608\n",
       "CDRSB                    0.011436\n",
       "FAQ                      0.009692\n",
       "ADAS11                   0.007366\n",
       "ADASQ4                   0.005427\n",
       "MMSE                     0.005234\n",
       "mPACCdigit               0.005234\n",
       "mPACCtrailsB             0.005040\n",
       "PTETHCAT                 0.004071\n",
       "PTMARRY                  0.000969\n",
       "PTEDUCAT                 0.000000\n",
       "VISCODE                  0.000000\n",
       "SITE                     0.000000\n",
       "AGE                      0.000000\n",
       "PTGENDER                 0.000000\n",
       "LDELTOTAL_BL             0.000000\n",
       "PTRACCAT                 0.000000\n",
       "APOE4                    0.000000\n",
       "ORIGPROT                 0.000000\n",
       "DX                       0.000000\n",
       "RID                      0.000000\n",
       "dtype: float64"
      ]
     },
     "metadata": {},
     "output_type": "display_data"
    }
   ],
   "source": [
    "display(adni1.isna().mean().sort_values(ascending=False))"
   ]
  },
  {
   "cell_type": "code",
   "execution_count": null,
   "id": "71ff3bb9",
   "metadata": {},
   "outputs": [],
   "source": []
  }
 ],
 "metadata": {
  "kernelspec": {
   "display_name": "Python 3 (ipykernel)",
   "language": "python",
   "name": "python3"
  },
  "language_info": {
   "codemirror_mode": {
    "name": "ipython",
    "version": 3
   },
   "file_extension": ".py",
   "mimetype": "text/x-python",
   "name": "python",
   "nbconvert_exporter": "python",
   "pygments_lexer": "ipython3",
   "version": "3.10.9"
  }
 },
 "nbformat": 4,
 "nbformat_minor": 5
}
