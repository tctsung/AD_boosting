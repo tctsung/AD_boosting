{
 "cells": [
  {
   "cell_type": "code",
   "execution_count": 1,
   "id": "86a4d5fe",
   "metadata": {},
   "outputs": [],
   "source": [
    "import pandas as pd\n",
    "import numpy as np\n",
    "import xgboost as xgb\n",
    "import lightgbm as lgb\n",
    "from catboost import CatBoostClassifier\n",
    "from sklearn.ensemble import GradientBoostingClassifier\n",
    "from sklearn.ensemble import HistGradientBoostingClassifier\n",
    "from sklearn.ensemble import GradientBoostingClassifier\n",
    "from sklearn.metrics import balanced_accuracy_score, roc_auc_score, make_scorer\n",
    "from sklearn.linear_model import LogisticRegression\n",
    "from sklearn.metrics import confusion_matrix\n",
    "import data_cleaner as dc  # self-writtten python functions\n",
    "pd.set_option('display.max_rows', 500)  # let pd.df display() 500 rows\n",
    "pd.set_option('display.max_columns', 500)"
   ]
  },
  {
   "cell_type": "code",
   "execution_count": 2,
   "id": "8dfa87e2",
   "metadata": {},
   "outputs": [
    {
     "ename": "NameError",
     "evalue": "name 'x_train' is not defined",
     "output_type": "error",
     "traceback": [
      "\u001b[0;31m---------------------------------------------------------------------------\u001b[0m",
      "\u001b[0;31mNameError\u001b[0m                                 Traceback (most recent call last)",
      "Cell \u001b[0;32mIn[2], line 2\u001b[0m\n\u001b[1;32m      1\u001b[0m \u001b[38;5;66;03m# standardization in training & keep the original mean & sd\u001b[39;00m\n\u001b[0;32m----> 2\u001b[0m x_train, train_mean_sd \u001b[38;5;241m=\u001b[39m dc\u001b[38;5;241m.\u001b[39mstandardization(\u001b[43mx_train\u001b[49m)\n\u001b[1;32m      3\u001b[0m x_test, test_mean_sd \u001b[38;5;241m=\u001b[39m dc\u001b[38;5;241m.\u001b[39mstandardization(x_test)\n\u001b[1;32m      4\u001b[0m dc\u001b[38;5;241m.\u001b[39moverview(x_train)\n",
      "\u001b[0;31mNameError\u001b[0m: name 'x_train' is not defined"
     ]
    }
   ],
   "source": [
    "# standardization in training & keep the original mean & sd\n",
    "x_train, train_mean_sd = dc.standardization(x_train)\n",
    "x_test, test_mean_sd = dc.standardization(x_test)\n",
    "dc.overview(x_train)"
   ]
  },
  {
   "cell_type": "code",
   "execution_count": null,
   "id": "c153fec8",
   "metadata": {},
   "outputs": [],
   "source": []
  }
 ],
 "metadata": {
  "kernelspec": {
   "display_name": "Python 3 (ipykernel)",
   "language": "python",
   "name": "python3"
  },
  "language_info": {
   "codemirror_mode": {
    "name": "ipython",
    "version": 3
   },
   "file_extension": ".py",
   "mimetype": "text/x-python",
   "name": "python",
   "nbconvert_exporter": "python",
   "pygments_lexer": "ipython3",
   "version": "3.8.8"
  }
 },
 "nbformat": 4,
 "nbformat_minor": 5
}
