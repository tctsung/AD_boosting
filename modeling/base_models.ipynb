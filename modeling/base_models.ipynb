{
 "cells": [
  {
   "cell_type": "code",
   "execution_count": 1,
   "id": "cfb1625f",
   "metadata": {},
   "outputs": [],
   "source": [
    "# general:\n",
    "import pandas as pd\n",
    "import numpy as np\n",
    "import catboost as cat\n",
    "# self-written functions:\n",
    "import sys\n",
    "sys.path.append(\"../data_process/\")\n",
    "import ML_func as ml\n",
    "import data_cleaner as dc"
   ]
  },
  {
   "cell_type": "code",
   "execution_count": 2,
   "id": "4916f19d",
   "metadata": {},
   "outputs": [],
   "source": [
    "test = dc.load_py('../../clean_data/test.pkl')   # CatBoost & light GBM use categorical\n",
    "train = dc.load_py('../../clean_data/train.pkl')\n",
    "x_test_dummy = dc.load_py('../../clean_data/test_dummy.pkl')    # XGBoost use one-hot encoding\n",
    "x_train_dummy = dc.load_py('../../clean_data/train_dummy.pkl')\n",
    "x_test_dummy.pop('progress')   \n",
    "x_train_dummy.pop('progress')\n",
    "x_test = test.copy()\n",
    "x_train = train.copy()\n",
    "y_test = x_test.pop('progress')\n",
    "y_train = x_train.pop('progress')\n",
    "cat_features=['PTGENDER', 'PTETHCAT', 'PTMARRY', 'PTRACCAT']"
   ]
  },
  {
   "cell_type": "code",
   "execution_count": 3,
   "id": "0eaa23a7",
   "metadata": {},
   "outputs": [],
   "source": [
    "base_models = {}  # to save all models"
   ]
  },
  {
   "cell_type": "markdown",
   "id": "667afdd6",
   "metadata": {},
   "source": [
    "### Logistic & Lasso regression"
   ]
  },
  {
   "cell_type": "code",
   "execution_count": 4,
   "id": "94f8f38d",
   "metadata": {},
   "outputs": [],
   "source": [
    "from sklearn.linear_model import LogisticRegression\n",
    "mod_log = LogisticRegression(penalty=None, max_iter=500,random_state=1)\n",
    "mod_log.fit(x_train_dummy, y_train)\n",
    "base_models['Logistic Regression'] = mod_log"
   ]
  },
  {
   "cell_type": "code",
   "execution_count": 5,
   "id": "4d9abea4",
   "metadata": {},
   "outputs": [
    {
     "data": {
      "text/plain": [
       "0.9196675900277008"
      ]
     },
     "execution_count": 5,
     "metadata": {},
     "output_type": "execute_result"
    }
   ],
   "source": [
    "np.mean(mod_log.predict(x_test_dummy) == y_test)"
   ]
  },
  {
   "cell_type": "code",
   "execution_count": 6,
   "id": "66084622",
   "metadata": {},
   "outputs": [
    {
     "data": {
      "text/plain": [
       "0.9196675900277008"
      ]
     },
     "execution_count": 6,
     "metadata": {},
     "output_type": "execute_result"
    }
   ],
   "source": [
    "mod_lasso = LogisticRegression(penalty='l2', max_iter=500,random_state=1)\n",
    "mod_lasso.fit(x_train_dummy, y_train)\n",
    "base_models['Lasso Regression'] = mod_lasso\n",
    "np.mean(mod_lasso.predict(x_test_dummy) == y_test)"
   ]
  },
  {
   "cell_type": "markdown",
   "id": "19c90be2",
   "metadata": {},
   "source": [
    "### Random Forest"
   ]
  },
  {
   "cell_type": "code",
   "execution_count": 7,
   "id": "27423aaa",
   "metadata": {},
   "outputs": [
    {
     "data": {
      "text/plain": [
       "0.925207756232687"
      ]
     },
     "execution_count": 7,
     "metadata": {},
     "output_type": "execute_result"
    }
   ],
   "source": [
    "from sklearn.ensemble import RandomForestClassifier\n",
    "mod_rf = RandomForestClassifier(n_estimators=300, random_state=1)\n",
    "mod_rf.fit(x_train_dummy, y_train)\n",
    "base_models['Random Forest'] = mod_rf\n",
    "np.mean(mod_rf.predict(x_test_dummy) == y_test)"
   ]
  },
  {
   "cell_type": "markdown",
   "id": "0df71c23",
   "metadata": {},
   "source": [
    "### SVM"
   ]
  },
  {
   "cell_type": "code",
   "execution_count": 8,
   "id": "68a51766",
   "metadata": {},
   "outputs": [
    {
     "data": {
      "text/plain": [
       "0.9168975069252078"
      ]
     },
     "execution_count": 8,
     "metadata": {},
     "output_type": "execute_result"
    }
   ],
   "source": [
    "from sklearn.svm import SVC\n",
    "from sklearn.pipeline import Pipeline\n",
    "from sklearn.preprocessing import StandardScaler\n",
    "mod_svm = Pipeline([\n",
    "    (\"scale\", StandardScaler() ),\n",
    "    ('model', SVC(kernel='linear', probability=True,random_state=1)),\n",
    "])\n",
    "mod_svm.fit(x_train_dummy, y_train)\n",
    "base_models['SVM'] = mod_svm\n",
    "np.mean(mod_svm.predict(x_test_dummy) == y_test)"
   ]
  },
  {
   "cell_type": "markdown",
   "id": "42cc3d5a",
   "metadata": {},
   "source": [
    "### GBM"
   ]
  },
  {
   "cell_type": "code",
   "execution_count": 9,
   "id": "1f066f87",
   "metadata": {},
   "outputs": [
    {
     "data": {
      "text/plain": [
       "0.9085872576177285"
      ]
     },
     "execution_count": 9,
     "metadata": {},
     "output_type": "execute_result"
    }
   ],
   "source": [
    "from sklearn.ensemble import HistGradientBoostingClassifier\n",
    "mod_gbm = HistGradientBoostingClassifier(random_state=1)\n",
    "mod_gbm.fit(x_train_dummy, y_train)\n",
    "base_models['GBM'] = mod_gbm\n",
    "np.mean(mod_gbm.predict(x_test_dummy) == y_test)"
   ]
  },
  {
   "cell_type": "code",
   "execution_count": 10,
   "id": "ef71c4d5",
   "metadata": {},
   "outputs": [],
   "source": [
    "dc.save_py(base_models, 'models/baseline5')"
   ]
  }
 ],
 "metadata": {
  "kernelspec": {
   "display_name": "Python 3 (ipykernel)",
   "language": "python",
   "name": "python3"
  },
  "language_info": {
   "codemirror_mode": {
    "name": "ipython",
    "version": 3
   },
   "file_extension": ".py",
   "mimetype": "text/x-python",
   "name": "python",
   "nbconvert_exporter": "python",
   "pygments_lexer": "ipython3",
   "version": "3.8.8"
  }
 },
 "nbformat": 4,
 "nbformat_minor": 5
}
